{
  "nbformat": 4,
  "nbformat_minor": 0,
  "metadata": {
    "colab": {
      "provenance": [],
      "authorship_tag": "ABX9TyOfe9KGKy+ob9PHFatiHgv7",
      "include_colab_link": true
    },
    "kernelspec": {
      "name": "python3",
      "display_name": "Python 3"
    },
    "language_info": {
      "name": "python"
    }
  },
  "cells": [
    {
      "cell_type": "markdown",
      "metadata": {
        "id": "view-in-github",
        "colab_type": "text"
      },
      "source": [
        "<a href=\"https://colab.research.google.com/github/aiswarya-1422/ictak/blob/main/machine_test.ipynb\" target=\"_parent\"><img src=\"https://colab.research.google.com/assets/colab-badge.svg\" alt=\"Open In Colab\"/></a>"
      ]
    },
    {
      "cell_type": "code",
      "execution_count": null,
      "metadata": {
        "colab": {
          "base_uri": "https://localhost:8080/"
        },
        "id": "I2rL6gDF7KSD",
        "outputId": "2d5d1ec6-71ef-4d98-e171-0c4303b6fd79"
      },
      "outputs": [
        {
          "output_type": "stream",
          "name": "stdout",
          "text": [
            "Requirement already satisfied: pandas in /usr/local/lib/python3.12/dist-packages (2.2.2)\n",
            "Requirement already satisfied: scikit-learn in /usr/local/lib/python3.12/dist-packages (1.6.1)\n",
            "Requirement already satisfied: numpy>=1.26.0 in /usr/local/lib/python3.12/dist-packages (from pandas) (2.0.2)\n",
            "Requirement already satisfied: python-dateutil>=2.8.2 in /usr/local/lib/python3.12/dist-packages (from pandas) (2.9.0.post0)\n",
            "Requirement already satisfied: pytz>=2020.1 in /usr/local/lib/python3.12/dist-packages (from pandas) (2025.2)\n",
            "Requirement already satisfied: tzdata>=2022.7 in /usr/local/lib/python3.12/dist-packages (from pandas) (2025.2)\n",
            "Requirement already satisfied: scipy>=1.6.0 in /usr/local/lib/python3.12/dist-packages (from scikit-learn) (1.16.2)\n",
            "Requirement already satisfied: joblib>=1.2.0 in /usr/local/lib/python3.12/dist-packages (from scikit-learn) (1.5.2)\n",
            "Requirement already satisfied: threadpoolctl>=3.1.0 in /usr/local/lib/python3.12/dist-packages (from scikit-learn) (3.6.0)\n",
            "Requirement already satisfied: six>=1.5 in /usr/local/lib/python3.12/dist-packages (from python-dateutil>=2.8.2->pandas) (1.17.0)\n"
          ]
        }
      ],
      "source": [
        "!pip install pandas scikit-learn"
      ]
    },
    {
      "cell_type": "code",
      "source": [
        "\n",
        "import pandas as pd\n",
        "from sklearn.feature_extraction.text import TfidfVectorizer\n",
        "from sklearn.metrics.pairwise import cosine_similarity\n",
        "\n",
        "movies_url = \"https://files.grouplens.org/datasets/movielens/ml-latest-small.zip\"\n",
        "!wget $movies_url -O ml-latest-small.zip\n",
        "!unzip -o ml-latest-small.zip\n",
        "\n",
        "movies_df = pd.read_csv(\"ml-latest-small/movies.csv\")\n",
        "\n",
        "print(\"Sample movies:\")\n",
        "print(movies_df.head())\n",
        "\n",
        "movies_df['content_soup'] = movies_df['genres'].str.replace('|', ' ', regex=False)\n",
        "\n",
        "tfidf = TfidfVectorizer(stop_words='english')\n",
        "tfidf_matrix = tfidf.fit_transform(movies_df['content_soup'])\n",
        "\n",
        "cosine_sim = cosine_similarity(tfidf_matrix, tfidf_matrix)\n",
        "\n",
        "title_to_index = pd.Series(movies_df.index, index=movies_df['title']).drop_duplicates()\n",
        "\n",
        "def recommend_movies(title, cosine_sim=cosine_sim, df=movies_df):\n",
        "    if title not in title_to_index:\n",
        "        return f\"Movie '{title}' not found in dataset.\"\n",
        "\n",
        "    idx = title_to_index[title]\n",
        "    sim_scores = list(enumerate(cosine_sim[idx]))\n",
        "    sim_scores = sorted(sim_scores, key=lambda x: x[1], reverse=True)\n",
        "    sim_scores = sim_scores[1:6]  # Top 5 excluding the movie itself\n",
        "    movie_indices = [i[0] for i in sim_scores]\n",
        "    return df['title'].iloc[movie_indices]\n",
        "\n",
        "movie_title = \"Toy Story (1995)\"\n",
        "print(f\"\\nTop 5 recommendations for '{movie_title}':\")\n",
        "print(recommend_movies(movie_title))\n"
      ],
      "metadata": {
        "colab": {
          "base_uri": "https://localhost:8080/"
        },
        "id": "QwOABvaf-GiZ",
        "outputId": "4f807afd-9464-466e-cd28-d8908411509a"
      },
      "execution_count": null,
      "outputs": [
        {
          "output_type": "stream",
          "name": "stdout",
          "text": [
            "--2025-10-15 08:24:53--  https://files.grouplens.org/datasets/movielens/ml-latest-small.zip\n",
            "Resolving files.grouplens.org (files.grouplens.org)... 128.101.96.204\n",
            "Connecting to files.grouplens.org (files.grouplens.org)|128.101.96.204|:443... connected.\n",
            "HTTP request sent, awaiting response... 200 OK\n",
            "Length: 978202 (955K) [application/zip]\n",
            "Saving to: ‘ml-latest-small.zip’\n",
            "\n",
            "ml-latest-small.zip 100%[===================>] 955.28K  2.85MB/s    in 0.3s    \n",
            "\n",
            "2025-10-15 08:24:54 (2.85 MB/s) - ‘ml-latest-small.zip’ saved [978202/978202]\n",
            "\n",
            "Archive:  ml-latest-small.zip\n",
            "   creating: ml-latest-small/\n",
            "  inflating: ml-latest-small/links.csv  \n",
            "  inflating: ml-latest-small/tags.csv  \n",
            "  inflating: ml-latest-small/ratings.csv  \n",
            "  inflating: ml-latest-small/README.txt  \n",
            "  inflating: ml-latest-small/movies.csv  \n",
            "Sample movies:\n",
            "   movieId                               title  \\\n",
            "0        1                    Toy Story (1995)   \n",
            "1        2                      Jumanji (1995)   \n",
            "2        3             Grumpier Old Men (1995)   \n",
            "3        4            Waiting to Exhale (1995)   \n",
            "4        5  Father of the Bride Part II (1995)   \n",
            "\n",
            "                                        genres  \n",
            "0  Adventure|Animation|Children|Comedy|Fantasy  \n",
            "1                   Adventure|Children|Fantasy  \n",
            "2                               Comedy|Romance  \n",
            "3                         Comedy|Drama|Romance  \n",
            "4                                       Comedy  \n",
            "\n",
            "Top 5 recommendations for 'Toy Story (1995)':\n",
            "1706                                       Antz (1998)\n",
            "2355                                Toy Story 2 (1999)\n",
            "2809    Adventures of Rocky and Bullwinkle, The (2000)\n",
            "3000                  Emperor's New Groove, The (2000)\n",
            "3568                             Monsters, Inc. (2001)\n",
            "Name: title, dtype: object\n"
          ]
        }
      ]
    },
    {
      "cell_type": "markdown",
      "source": [
        " **Major Limitation of a Purely Content-Based Recommendation System**\n",
        "\n",
        "A major limitation of a purely content-based recommendation system is its **inability to capture user preferences beyond item features**. Since recommendations are based solely on the attributes of items (e.g., genres, actors, keywords), the system tends to suggest items that are very similar to what the user has already consumed.\n",
        "\n",
        "This leads to two key issues:\n",
        "\n",
        "- **Lack of Serendipity**: Users are rarely surprised or exposed to diverse content. The system reinforces existing preferences and may never suggest something outside the user's known interests—even if they might enjoy it.\n",
        "  \n",
        "- **Cold Start for Users**: For new users with limited interaction history, the system struggles to personalize recommendations effectively, as it doesn't learn from other users' behaviors.\n",
        "\n",
        "In contrast, collaborative filtering can uncover hidden patterns by leveraging the preferences of similar users, enabling more diverse and unexpected suggestions.\n"
      ],
      "metadata": {
        "id": "rHA5kKY8_jdA"
      }
    },
    {
      "cell_type": "code",
      "source": [
        "import pandas as pd\n",
        "import numpy as np\n",
        "from sklearn.decomposition import TruncatedSVD\n",
        "\n",
        "ratings = pd.read_csv(\"ml-latest-small/ratings.csv\")\n",
        "movies = pd.read_csv(\"ml-latest-small/movies.csv\")\n",
        "\n",
        "user_item_matrix = ratings.pivot_table(index='userId', columns='movieId', values='rating').fillna(0)\n",
        "print(\"User-Item Matrix shape:\", user_item_matrix.shape)\n"
      ],
      "metadata": {
        "colab": {
          "base_uri": "https://localhost:8080/"
        },
        "id": "akL2FN_VDF3a",
        "outputId": "62fd15bc-7dc5-4b88-8d50-3a6b41ae0a4a"
      },
      "execution_count": null,
      "outputs": [
        {
          "output_type": "stream",
          "name": "stdout",
          "text": [
            "User-Item Matrix shape: (610, 9724)\n"
          ]
        }
      ]
    },
    {
      "cell_type": "code",
      "source": [
        "\n",
        "svd = TruncatedSVD(n_components=20, random_state=42)\n",
        "matrix_svd = svd.fit_transform(user_item_matrix)\n",
        "\n",
        "approx_ratings = np.dot(matrix_svd, svd.components_)\n",
        "\n",
        "predicted_df = pd.DataFrame(approx_ratings, index=user_item_matrix.index, columns=user_item_matrix.columns)\n",
        "\n",
        "# Sample prediction: User 1, Movie 1\n",
        "sample_user = 1\n",
        "sample_movie = 1\n",
        "predicted_rating = predicted_df.loc[sample_user, sample_movie]\n",
        "print(f\"\\nPredicted rating for user {sample_user} on movie {sample_movie}: {predicted_rating:.2f}\")\n"
      ],
      "metadata": {
        "colab": {
          "base_uri": "https://localhost:8080/"
        },
        "id": "-oiJmXRADJMg",
        "outputId": "6ca598a2-4a52-47cd-c70a-f85fadf4a7cf"
      },
      "execution_count": null,
      "outputs": [
        {
          "output_type": "stream",
          "name": "stdout",
          "text": [
            "\n",
            "Predicted rating for user 1 on movie 1: 2.79\n"
          ]
        }
      ]
    },
    {
      "cell_type": "markdown",
      "source": [
        "**Core Assumption of Collaborative Filtering (SVD)**\n",
        "\n",
        "Collaborative filtering models like **SVD** assume that:\n",
        "\n",
        "> **Users with similar rating patterns share similar preferences.**\n",
        "\n",
        "This means the model learns latent features from the user-item matrix that represent hidden dimensions of taste. It predicts unknown ratings by projecting users and items into this shared latent space.\n",
        "### Implications:\n",
        "- No need for item metadata (e.g., genres or cast)\n",
        "- Can uncover surprising recommendations based on behavior\n",
        "- Suffers from cold-start issues for new users or items\n",
        "\n",
        "SVD is powerful when there's enough rating data to reveal meaningful patterns.\n"
      ],
      "metadata": {
        "id": "YsjpjUh4Dw3p"
      }
    },
    {
      "cell_type": "markdown",
      "source": [
        "##**Cold Start Problem in Recommender Systems**\n",
        "\n",
        "The **cold start problem** happens when a recommender system struggles to make good suggestions because it doesn't have enough data.\n",
        "\n",
        "###  New User Problem\n",
        "When a new user joins, the system doesn’t know their preferences yet. So it’s hard to recommend anything personalized.\n",
        "\n",
        "### New Movie Problem\n",
        "When a new movie is added, no one has rated it yet. So the system doesn’t know who might like it.\n",
        "\n",
        "\n",
        "---\n",
        "\n",
        "##  Which Model Handles Cold Start Better?\n",
        "\n",
        "| Scenario        | Better Model         | Why? |\n",
        "|----------------|----------------------|------|\n",
        "| New User        |  Content-Based      | It uses movie features (like genres), not user history. So it can still recommend similar movies. |\n",
        "| New Movie       | Content-Based      | It uses the movie’s own content (genres), so it can suggest it to users who liked similar genres. |\n",
        "| New User        |  Collaborative Filtering | Needs user ratings to find similar users. Without data, it can't personalize. |\n",
        "| New Movie       |  Collaborative Filtering | Needs ratings from users to learn who likes it. No ratings = no recommendations. |\n",
        "\n",
        "---\n",
        "\n",
        "Content-based models are better at handling cold start situations because they rely on item features (like genres) instead of user behavior. Collaborative filtering needs interaction data, so it struggles when that data is missing.\n"
      ],
      "metadata": {
        "id": "iAKE7oaNFCux"
      }
    },
    {
      "cell_type": "code",
      "source": [
        "import pandas as pd\n",
        "import numpy as np\n",
        "from sklearn.decomposition import TruncatedSVD\n",
        "from sklearn.model_selection import GridSearchCV\n",
        "from sklearn.metrics import mean_squared_error\n",
        "from sklearn.base import BaseEstimator, TransformerMixin\n",
        "\n",
        "ratings = pd.read_csv(\"ml-latest-small/ratings.csv\")\n",
        "\n",
        "user_item_matrix = ratings.pivot_table(index='userId', columns='movieId', values='rating').fillna(0)\n",
        "print(\"User-Item Matrix shape:\", user_item_matrix.shape)\n"
      ],
      "metadata": {
        "colab": {
          "base_uri": "https://localhost:8080/"
        },
        "id": "aQN3b3RQG1zZ",
        "outputId": "69f58f09-78cd-4531-b737-3e5b0d5bd70b"
      },
      "execution_count": null,
      "outputs": [
        {
          "output_type": "stream",
          "name": "stdout",
          "text": [
            "User-Item Matrix shape: (610, 9724)\n"
          ]
        }
      ]
    },
    {
      "cell_type": "code",
      "source": [
        "class SVDWrapper(BaseEstimator, TransformerMixin):\n",
        "    def __init__(self, n_components=20):\n",
        "        self.n_components = n_components\n",
        "        self.model = TruncatedSVD(n_components=self.n_components, random_state=42)\n",
        "\n",
        "    def fit(self, X, y=None):\n",
        "        self.model.fit(X)\n",
        "        return self\n",
        "\n",
        "    def transform(self, X):\n",
        "        return self.model.transform(X)\n",
        "\n",
        "    def score(self, X, y=None):\n",
        "        reconstructed = np.dot(self.model.transform(X), self.model.components_)\n",
        "        return -mean_squared_error(X, reconstructed)"
      ],
      "metadata": {
        "id": "d9cc1FVwG7jR"
      },
      "execution_count": null,
      "outputs": []
    },
    {
      "cell_type": "code",
      "source": [
        "param_grid = {'n_components': [10, 20, 30, 40]}\n",
        "\n",
        "grid = GridSearchCV(SVDWrapper(), param_grid, cv=3)\n",
        "grid.fit(user_item_matrix)\n",
        "\n",
        "print(\"Best parameters:\", grid.best_params_)\n",
        "print(\"Best score (negative MSE):\", grid.best_score_)\n"
      ],
      "metadata": {
        "colab": {
          "base_uri": "https://localhost:8080/"
        },
        "id": "dU2rSK2CG_4B",
        "outputId": "a8531bb0-3100-4e99-861a-16720e2dbd1f"
      },
      "execution_count": null,
      "outputs": [
        {
          "output_type": "stream",
          "name": "stdout",
          "text": [
            "Best parameters: {'n_components': 10}\n",
            "Best score (negative MSE): -0.15491735106214533\n"
          ]
        }
      ]
    },
    {
      "cell_type": "code",
      "source": [
        "\n",
        "best_n = grid.best_params_['n_components']\n",
        "final_svd = TruncatedSVD(n_components=best_n, random_state=42)\n",
        "user_features = final_svd.fit_transform(user_item_matrix)\n",
        "approx_ratings = np.dot(user_features, final_svd.components_)\n",
        "predicted_df = pd.DataFrame(approx_ratings, index=user_item_matrix.index, columns=user_item_matrix.columns)\n",
        "\n",
        "# Sample prediction: User 1, Movie 1\n",
        "user_id = 1\n",
        "movie_id = 1\n",
        "if movie_id in predicted_df.columns:\n",
        "    predicted_rating = predicted_df.loc[user_id, movie_id]\n",
        "    print(f\"\\nPredicted rating for user {user_id} on movie {movie_id}: {predicted_rating:.2f}\")\n",
        "else:\n",
        "    print(f\"Movie ID {movie_id} not found.\")\n"
      ],
      "metadata": {
        "colab": {
          "base_uri": "https://localhost:8080/"
        },
        "id": "IbI06jNvHH9p",
        "outputId": "afe68d62-7944-4e1a-d1e2-111ef09b16d7"
      },
      "execution_count": null,
      "outputs": [
        {
          "output_type": "stream",
          "name": "stdout",
          "text": [
            "\n",
            "Predicted rating for user 1 on movie 1: 2.86\n"
          ]
        }
      ]
    },
    {
      "cell_type": "markdown",
      "source": [
        "##  Why Hyperparameter Tuning Is Important\n",
        "\n",
        "Hyperparameter tuning helps a machine learning model perform better by finding the best settings for learning. It’s like adjusting the knobs on a radio to get the clearest signal.\n",
        "\n",
        "### Risks of Using Default Parameters\n",
        "\n",
        "- They may not fit your data well.\n",
        "- Can lead to poor predictions or overfitting.\n",
        "- You might miss out on better performance.\n",
        "\n",
        "By tuning parameters like `n_components` in SVD, we help the model learn the most useful patterns in the data, leading to more accurate and reliable recommendations.\n"
      ],
      "metadata": {
        "id": "QxVJKV2fHW8B"
      }
    },
    {
      "cell_type": "markdown",
      "source": [
        "##  Hybrid Recommendation Strategy\n",
        "\n",
        "We combined the top 10 recommendations from:\n",
        "- Content-Based Filtering (based on genre similarity to the selected movie)\n",
        "- Collaborative Filtering (based on the user's past ratings)\n",
        "\n",
        "Then we removed duplicates and kept the first 10 unique titles.\n",
        "\n",
        "### Ranking Strategy\n",
        "We did not prioritize one model over the other. The final list preserves the original order—content-based first, then collaborative—until we reach 10 unique movies.\n",
        "\n",
        "### Why Hybrid Is Powerful\n",
        "- Content-Based captures item similarity.\n",
        "- Collaborative Filtering captures user behavior.\n",
        "- Hybrid systems balance both, improving personalization and robustness—especially when one model lacks data.\n"
      ],
      "metadata": {
        "id": "4NuI5ukbXKDd"
      }
    }
  ]
}