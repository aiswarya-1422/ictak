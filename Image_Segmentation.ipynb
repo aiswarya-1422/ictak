{
  "nbformat": 4,
  "nbformat_minor": 0,
  "metadata": {
    "colab": {
      "provenance": [],
      "authorship_tag": "ABX9TyOOf+AqMdK7k+nf7jCscAHg",
      "include_colab_link": true
    },
    "kernelspec": {
      "name": "python3",
      "display_name": "Python 3"
    },
    "language_info": {
      "name": "python"
    }
  },
  "cells": [
    {
      "cell_type": "markdown",
      "metadata": {
        "id": "view-in-github",
        "colab_type": "text"
      },
      "source": [
        "<a href=\"https://colab.research.google.com/github/aiswarya-1422/ictak/blob/main/Image_Segmentation.ipynb\" target=\"_parent\"><img src=\"https://colab.research.google.com/assets/colab-badge.svg\" alt=\"Open In Colab\"/></a>"
      ]
    },
    {
      "cell_type": "code",
      "source": [
        "!pip install opencv-python-headless scikit-learn matplotlib"
      ],
      "metadata": {
        "colab": {
          "base_uri": "https://localhost:8080/"
        },
        "id": "jlSMYynSzaCe",
        "outputId": "fc5d1e13-9c41-48ba-e76e-8b6a5d39fd6a"
      },
      "execution_count": 13,
      "outputs": [
        {
          "output_type": "stream",
          "name": "stdout",
          "text": [
            "Requirement already satisfied: opencv-python-headless in /usr/local/lib/python3.11/dist-packages (4.12.0.88)\n",
            "Requirement already satisfied: scikit-learn in /usr/local/lib/python3.11/dist-packages (1.6.1)\n",
            "Requirement already satisfied: matplotlib in /usr/local/lib/python3.11/dist-packages (3.10.0)\n",
            "Requirement already satisfied: numpy<2.3.0,>=2 in /usr/local/lib/python3.11/dist-packages (from opencv-python-headless) (2.0.2)\n",
            "Requirement already satisfied: scipy>=1.6.0 in /usr/local/lib/python3.11/dist-packages (from scikit-learn) (1.16.1)\n",
            "Requirement already satisfied: joblib>=1.2.0 in /usr/local/lib/python3.11/dist-packages (from scikit-learn) (1.5.1)\n",
            "Requirement already satisfied: threadpoolctl>=3.1.0 in /usr/local/lib/python3.11/dist-packages (from scikit-learn) (3.6.0)\n",
            "Requirement already satisfied: contourpy>=1.0.1 in /usr/local/lib/python3.11/dist-packages (from matplotlib) (1.3.3)\n",
            "Requirement already satisfied: cycler>=0.10 in /usr/local/lib/python3.11/dist-packages (from matplotlib) (0.12.1)\n",
            "Requirement already satisfied: fonttools>=4.22.0 in /usr/local/lib/python3.11/dist-packages (from matplotlib) (4.59.0)\n",
            "Requirement already satisfied: kiwisolver>=1.3.1 in /usr/local/lib/python3.11/dist-packages (from matplotlib) (1.4.8)\n",
            "Requirement already satisfied: packaging>=20.0 in /usr/local/lib/python3.11/dist-packages (from matplotlib) (25.0)\n",
            "Requirement already satisfied: pillow>=8 in /usr/local/lib/python3.11/dist-packages (from matplotlib) (11.3.0)\n",
            "Requirement already satisfied: pyparsing>=2.3.1 in /usr/local/lib/python3.11/dist-packages (from matplotlib) (3.2.3)\n",
            "Requirement already satisfied: python-dateutil>=2.7 in /usr/local/lib/python3.11/dist-packages (from matplotlib) (2.9.0.post0)\n",
            "Requirement already satisfied: six>=1.5 in /usr/local/lib/python3.11/dist-packages (from python-dateutil>=2.7->matplotlib) (1.17.0)\n"
          ]
        }
      ]
    },
    {
      "cell_type": "code",
      "source": [
        "from IPython.display import display, Javascript\n",
        "from google.colab.output import eval_js\n",
        "from google.colab.patches import cv2_imshow\n",
        "import cv2\n",
        "import numpy as np\n",
        "\n",
        "\n",
        "def take_photo(filename='photo.jpg', quality=0.8):\n",
        "    js = Javascript('''\n",
        "    async function takePhoto(quality) {\n",
        "      const div = document.createElement('div');\n",
        "      const capture = document.createElement('button');\n",
        "      capture.textContent = 'Capture';\n",
        "      div.appendChild(capture);\n",
        "\n",
        "      const video = document.createElement('video');\n",
        "      video.style.display = 'block';\n",
        "      const stream = await navigator.mediaDevices.getUserMedia({video: true});\n",
        "\n",
        "      document.body.appendChild(div);\n",
        "      div.appendChild(video);\n",
        "      video.srcObject = stream;\n",
        "      await video.play();\n",
        "\n",
        "      google.colab.output.setIframeHeight(document.documentElement.scrollHeight, true);\n",
        "\n",
        "      await new Promise((resolve) => capture.onclick = resolve);\n",
        "\n",
        "      const canvas = document.createElement('canvas');\n",
        "      canvas.width = video.videoWidth;\n",
        "      canvas.height = video.videoHeight;\n",
        "      canvas.getContext('2d').drawImage(video, 0, 0);\n",
        "      stream.getVideoTracks()[0].stop();\n",
        "\n",
        "      const dataUrl = canvas.toDataURL('image/jpeg', quality);\n",
        "      return dataUrl;\n",
        "    }\n",
        "    ''')\n",
        "    display(js)\n",
        "    data = eval_js('takePhoto({})'.format(quality))\n",
        "    import IPython\n",
        "    import io, base64\n",
        "    image_bytes = io.BytesIO(base64.b64decode(data.split(',')[1]))\n",
        "    with open(filename, 'wb') as f:\n",
        "        f.write(image_bytes.read())\n",
        "    return filename\n",
        "\n",
        "filename = take_photo()"
      ],
      "metadata": {
        "colab": {
          "base_uri": "https://localhost:8080/",
          "height": 518
        },
        "id": "obsy5GI4zhqe",
        "outputId": "1db2bf6d-4d54-470b-c4ff-ea7b3233c3c0"
      },
      "execution_count": 14,
      "outputs": [
        {
          "output_type": "display_data",
          "data": {
            "text/plain": [
              "<IPython.core.display.Javascript object>"
            ],
            "application/javascript": [
              "\n",
              "    async function takePhoto(quality) {\n",
              "      const div = document.createElement('div');\n",
              "      const capture = document.createElement('button');\n",
              "      capture.textContent = 'Capture';\n",
              "      div.appendChild(capture);\n",
              "\n",
              "      const video = document.createElement('video');\n",
              "      video.style.display = 'block';\n",
              "      const stream = await navigator.mediaDevices.getUserMedia({video: true});\n",
              "\n",
              "      document.body.appendChild(div);\n",
              "      div.appendChild(video);\n",
              "      video.srcObject = stream;\n",
              "      await video.play();\n",
              "\n",
              "      google.colab.output.setIframeHeight(document.documentElement.scrollHeight, true);\n",
              "\n",
              "      await new Promise((resolve) => capture.onclick = resolve);\n",
              "\n",
              "      const canvas = document.createElement('canvas');\n",
              "      canvas.width = video.videoWidth;\n",
              "      canvas.height = video.videoHeight;\n",
              "      canvas.getContext('2d').drawImage(video, 0, 0);\n",
              "      stream.getVideoTracks()[0].stop();\n",
              "\n",
              "      const dataUrl = canvas.toDataURL('image/jpeg', quality);\n",
              "      return dataUrl;\n",
              "    }\n",
              "    "
            ]
          },
          "metadata": {}
        }
      ]
    },
    {
      "cell_type": "code",
      "source": [
        "\n",
        "image = cv2.imread(filename)\n",
        "image = cv2.cvtColor(image, cv2.COLOR_BGR2RGB)\n",
        "\n",
        "image = cv2.resize(image, (128, 128))\n",
        "\n",
        "pixel_data = image.reshape((-1, 3))"
      ],
      "metadata": {
        "id": "JeXt6Ho1znXh"
      },
      "execution_count": 15,
      "outputs": []
    },
    {
      "cell_type": "code",
      "source": [
        "from sklearn.cluster import KMeans\n",
        "\n",
        "kmeans = KMeans(n_clusters=2, random_state=42)\n",
        "labels_kmeans = kmeans.fit_predict(pixel_data)\n",
        "seg_kmeans = labels_kmeans.reshape(image.shape[:2])"
      ],
      "metadata": {
        "id": "1epTirB3ztOK"
      },
      "execution_count": 16,
      "outputs": []
    },
    {
      "cell_type": "code",
      "source": [
        "from sklearn.cluster import AgglomerativeClustering\n",
        "\n",
        "agglo = AgglomerativeClustering(n_clusters=2)\n",
        "labels_agglo = agglo.fit_predict(pixel_data)\n",
        "seg_agglo = labels_agglo.reshape(image.shape[:2])"
      ],
      "metadata": {
        "id": "0HB44ew-z5_q"
      },
      "execution_count": 17,
      "outputs": []
    },
    {
      "cell_type": "code",
      "source": [
        "from sklearn.cluster import DBSCAN\n",
        "from sklearn.preprocessing import StandardScaler\n",
        "\n",
        "pixel_scaled = StandardScaler().fit_transform(pixel_data)\n",
        "dbscan = DBSCAN(eps=0.6, min_samples=50)\n",
        "labels_dbscan = dbscan.fit_predict(pixel_scaled)\n",
        "seg_dbscan = labels_dbscan.reshape(image.shape[:2])"
      ],
      "metadata": {
        "id": "zsLqDgpHz7S7"
      },
      "execution_count": 18,
      "outputs": []
    },
    {
      "cell_type": "code",
      "source": [
        "import matplotlib.pyplot as plt\n",
        "\n",
        "def show_segmented(segmented, title):\n",
        "    plt.figure(figsize=(6, 6))\n",
        "    plt.imshow(segmented, cmap='nipy_spectral')\n",
        "    plt.title(title)\n",
        "    plt.axis('off')\n",
        "    plt.show()\n",
        "\n",
        "show_segmented(seg_kmeans, \"K-Means Segmentation\")\n",
        "show_segmented(seg_agglo, \"Agglomerative Segmentation\")\n",
        "show_segmented(seg_dbscan, \"DBSCAN Segmentation\")"
      ],
      "metadata": {
        "colab": {
          "base_uri": "https://localhost:8080/",
          "height": 1000
        },
        "id": "Ovk1AUSB0Esv",
        "outputId": "516ffc49-5833-48a7-94c7-aded0eb0cf5c"
      },
      "execution_count": 19,
      "outputs": [
        {
          "output_type": "display_data",
          "data": {
            "text/plain": [
              "<Figure size 600x600 with 1 Axes>"
            ],
            "image/png": "[encoded data removed]"
          },
          "metadata": {}
        },
        {
          "output_type": "display_data",
          "data": {
            "text/plain": [
              "<Figure size 600x600 with 1 Axes>"
            ],
            "image/png": "[encoded data removed]"
          },
          "metadata": {}
        },
        {
          "output_type": "display_data",
          "data": {
            "text/plain": [
              "<Figure size 600x600 with 1 Axes>"
            ],
            "image/png": "[encoded data removed]"
          },
          "metadata": {}
        }
      ]
    },
    {
      "cell_type": "code",
      "source": [
        "import numpy as np\n",
        "from sklearn.cluster import KMeans\n",
        "target_cluster = 0\n",
        "masked_pixels = np.where((labels_kmeans.reshape(-1) == target_cluster)[:, None],\n",
        "                         [255, 255, 255],  # white\n",
        "                         pixel_data)\n",
        "\n",
        "masked_image = masked_pixels.reshape(image.shape)"
      ],
      "metadata": {
        "id": "KEEOAC1X4beB"
      },
      "execution_count": 20,
      "outputs": []
    },
    {
      "cell_type": "code",
      "source": [
        "plt.figure(figsize=(6, 6))\n",
        "plt.imshow(masked_image.astype(np.uint8))\n",
        "plt.title(f\"Masked Cluster {target_cluster} (K-Means)\")\n",
        "plt.axis('off')\n",
        "plt.show()"
      ],
      "metadata": {
        "colab": {
          "base_uri": "https://localhost:8080/",
          "height": 521
        },
        "id": "5fyucvjr4uJ_",
        "outputId": "6420d5e6-ba26-49f3-dcfd-23bccb95d57f"
      },
      "execution_count": 21,
      "outputs": [
        {
          "output_type": "display_data",
          "data": {
            "text/plain": [
              "<Figure size 600x600 with 1 Axes>"
            ],
            "image/png": "[encoded data removed]"
          },
          "metadata": {}
        }
      ]
    },
    {
      "cell_type": "code",
      "source": [
        "from scipy.spatial.distance import pdist, squareform\n",
        "\n",
        "def custom_agglomerative(data, num_clusters):\n",
        "    from collections import defaultdict\n",
        "\n",
        "    # Initial clusters: each point is its own cluster\n",
        "    clusters = {i: [i] for i in range(len(data))}\n",
        "    distances = squareform(pdist(data))\n",
        "\n",
        "    while len(clusters) > num_clusters:\n",
        "        # Find closest pair of clusters\n",
        "        min_dist = float('inf')\n",
        "        pair = None\n",
        "        keys = list(clusters.keys())\n",
        "        for i in range(len(keys)):\n",
        "            for j in range(i+1, len(keys)):\n",
        "                ci, cj = keys[i], keys[j]\n",
        "                dists = [distances[p1][p2] for p1 in clusters[ci] for p2 in clusters[cj]]\n",
        "                dist = min(dists)  # single linkage\n",
        "                if dist < min_dist:\n",
        "                    min_dist = dist\n",
        "                    pair = (ci, cj)\n",
        "\n",
        "        # Merge clusters\n",
        "        ci, cj = pair\n",
        "        clusters[ci].extend(clusters[cj])\n",
        "        del clusters[cj]\n",
        "\n",
        "    # Assign labels\n",
        "    labels = np.zeros(len(data), dtype=int)\n",
        "    for label, indices in enumerate(clusters.values()):\n",
        "        for idx in indices:\n",
        "            labels[idx] = label\n",
        "    return labels"
      ],
      "metadata": {
        "id": "0CnHQE4p44aD"
      },
      "execution_count": 22,
      "outputs": []
    },
    {
      "cell_type": "code",
      "source": [
        "def custom_dbscan(data, eps, min_samples):\n",
        "    from sklearn.metrics.pairwise import euclidean_distances\n",
        "\n",
        "    distances = euclidean_distances(data)\n",
        "    visited = np.zeros(len(data), dtype=bool)\n",
        "    labels = np.full(len(data), -1)\n",
        "    cluster_id = 0\n",
        "\n",
        "    def region_query(point_idx):\n",
        "        return np.where(distances[point_idx] < eps)[0]\n",
        "\n",
        "    for i in range(len(data)):\n",
        "        if visited[i]:\n",
        "            continue\n",
        "        visited[i] = True\n",
        "        neighbors = region_query(i)\n",
        "        if len(neighbors) < min_samples:\n",
        "            labels[i] = -1  # noise\n",
        "        else:\n",
        "            labels[i] = cluster_id\n",
        "            seeds = list(neighbors)\n",
        "            while seeds:\n",
        "                j = seeds.pop()\n",
        "                if not visited[j]:\n",
        "                    visited[j] = True\n",
        "                    new_neighbors = region_query(j)\n",
        "                    if len(new_neighbors) >= min_samples:\n",
        "                        seeds.extend(new_neighbors)\n",
        "                if labels[j] == -1:\n",
        "                    labels[j] = cluster_id\n",
        "            cluster_id += 1\n",
        "    return labels"
      ],
      "metadata": {
        "id": "erUFgRlp5FIo"
      },
      "execution_count": 23,
      "outputs": []
    },
    {
      "cell_type": "markdown",
      "source": [],
      "metadata": {
        "id": "PF8Ve9wQ6hmW"
      }
    },
    {
      "cell_type": "code",
      "source": [
        "labels_custom_agglo = custom_agglomerative(pixel_data, num_clusters=2)\n",
        "labels_custom_dbscan = custom_dbscan(pixel_scaled, eps=0.6, min_samples=50)\n",
        "\n",
        "# Reshape and visualize\n",
        "seg_custom_agglo = labels_custom_agglo.reshape(image.shape[:2])\n",
        "seg_custom_dbscan = labels_custom_dbscan.reshape(image.shape[:2])\n",
        "\n",
        "show_segmented(seg_custom_agglo, \"Custom Agglomerative Segmentation\")\n",
        "show_segmented(seg_custom_dbscan, \"Custom DBSCAN Segmentation\")"
      ],
      "metadata": {
        "id": "W_vwPCsQ5KQm"
      },
      "execution_count": null,
      "outputs": []
    }
  ]
}